{
  "nbformat": 4,
  "nbformat_minor": 0,
  "metadata": {
    "kernelspec": {
      "display_name": "Python 3",
      "language": "python",
      "name": "python3"
    },
    "language_info": {
      "codemirror_mode": {
        "name": "ipython",
        "version": 3
      },
      "file_extension": ".py",
      "mimetype": "text/x-python",
      "name": "python",
      "nbconvert_exporter": "python",
      "pygments_lexer": "ipython3",
      "version": "3.7.6"
    },
    "colab": {
      "name": "Lab_ex_3_1.ipynb",
      "provenance": []
    }
  },
  "cells": [
    {
      "cell_type": "markdown",
      "metadata": {
        "id": "WFa5DzrwAmcb"
      },
      "source": [
        "# Ex. 3.1 Hive\n",
        "We use the *pyHive* lib: https://github.com/dropbox/PyHive \n",
        "\n",
        "## Resources\n",
        "* [HQL cheat sheet](http://hortonworks.com/wp-content/uploads/2016/05/Hortonworks.CheatSheet.SQLtoHive.pdf)\n",
        "* [Hive reference](https://cwiki.apache.org/confluence/display/Hive/LanguageManual)\n",
        "\n",
        "## Install\n",
        "Install *pyHive* via *anaconda*"
      ]
    },
    {
      "cell_type": "code",
      "metadata": {
        "colab": {
          "base_uri": "https://localhost:8080/"
        },
        "id": "c3q0Z0YEAmcm",
        "outputId": "c71b35d4-10d8-490d-a1dc-bdd393cc2f93"
      },
      "source": [
        "from platform import python_version\n",
        "\n",
        "print(python_version())"
      ],
      "execution_count": 1,
      "outputs": [
        {
          "output_type": "stream",
          "text": [
            "3.7.10\n"
          ],
          "name": "stdout"
        }
      ]
    },
    {
      "cell_type": "code",
      "metadata": {
        "id": "TX8jvYNIAmcr"
      },
      "source": [
        "!pip install -q condacolab"
      ],
      "execution_count": 25,
      "outputs": []
    },
    {
      "cell_type": "code",
      "metadata": {
        "colab": {
          "base_uri": "https://localhost:8080/"
        },
        "id": "Q2pxwloiFaH_",
        "outputId": "94ebc0b5-2498-48ca-943e-a31fe2692e74"
      },
      "source": [
        "import condacolab\n",
        "condacolab.install()"
      ],
      "execution_count": 26,
      "outputs": [
        {
          "output_type": "stream",
          "text": [
            "⏬ Downloading https://github.com/jaimergp/miniforge/releases/latest/download/Mambaforge-colab-Linux-x86_64.sh...\n",
            "📦 Installing...\n",
            "📌 Adjusting configuration...\n",
            "🩹 Patching environment...\n",
            "⏲ Done in 0:00:39\n",
            "🔁 Restarting kernel...\n"
          ],
          "name": "stdout"
        }
      ]
    },
    {
      "cell_type": "code",
      "metadata": {
        "colab": {
          "base_uri": "https://localhost:8080/"
        },
        "id": "Ptv_9GHrFgLJ",
        "outputId": "9566f2ba-8bc8-4770-9489-b91240c90277"
      },
      "source": [
        "!conda install -y pyhive"
      ],
      "execution_count": 1,
      "outputs": [
        {
          "output_type": "stream",
          "text": [
            "Collecting package metadata (current_repodata.json): - \b\b\\ \b\b| \b\b/ \b\b- \b\b\\ \b\b| \b\b/ \b\b- \b\b\\ \b\b| \b\b/ \b\b- \b\b\\ \b\b| \b\b/ \b\b- \b\b\\ \b\b| \b\b/ \b\b- \b\b\\ \b\b| \b\b/ \b\b- \b\b\\ \b\b| \b\b/ \b\b- \b\b\\ \b\b| \b\b/ \b\b- \b\b\\ \b\b| \b\b/ \b\b- \b\b\\ \b\b| \b\b/ \b\b- \b\b\\ \b\b| \b\b/ \b\b- \b\b\\ \b\b| \b\b/ \b\b- \b\b\\ \b\b| \b\b/ \b\b- \b\b\\ \b\b| \b\b/ \b\b- \b\b\\ \b\b| \b\b/ \b\b- \b\b\\ \b\b| \b\b/ \b\b- \b\b\\ \b\b| \b\b/ \b\b- \b\b\\ \b\b| \b\bdone\n",
            "Solving environment: - \b\b\\ \b\b| \b\b/ \b\b- \b\b\\ \b\b| \b\b/ \b\b- \b\bdone\n",
            "\n",
            "## Package Plan ##\n",
            "\n",
            "  environment location: /usr/local\n",
            "\n",
            "  added / updated specs:\n",
            "    - pyhive\n",
            "\n",
            "\n",
            "The following packages will be downloaded:\n",
            "\n",
            "    package                    |            build\n",
            "    ---------------------------|-----------------\n",
            "    ca-certificates-2021.5.30  |       ha878542_0         136 KB  conda-forge\n",
            "    certifi-2021.5.30          |   py37h89c1867_0         141 KB  conda-forge\n",
            "    conda-4.10.1               |   py37h89c1867_0         3.1 MB  conda-forge\n",
            "    cyrus-sasl-2.1.27          |       h3274739_1         224 KB  conda-forge\n",
            "    future-0.18.2              |   py37h89c1867_3         714 KB  conda-forge\n",
            "    greenlet-1.1.0             |   py37hcd2ae1e_0          83 KB  conda-forge\n",
            "    importlib-metadata-4.5.0   |   py37h89c1867_0          31 KB  conda-forge\n",
            "    libntlm-1.4                |    h7f98852_1002          32 KB  conda-forge\n",
            "    openssl-1.1.1k             |       h7f98852_0         2.1 MB  conda-forge\n",
            "    pyhive-0.6.4               |     pyhd8ed1ab_0          39 KB  conda-forge\n",
            "    python-dateutil-2.8.1      |             py_0         220 KB  conda-forge\n",
            "    sasl-0.3a1                 |   py37hcd2ae1e_0          74 KB  conda-forge\n",
            "    sqlalchemy-1.4.18          |   py37h5e8e339_0         2.2 MB  conda-forge\n",
            "    thrift-0.13.0              |   py37hcd2ae1e_2         120 KB  conda-forge\n",
            "    thrift_sasl-0.4.2          |   py37h8f50634_0          14 KB  conda-forge\n",
            "    typing_extensions-3.10.0.0 |     pyha770c72_0          28 KB  conda-forge\n",
            "    zipp-3.4.1                 |     pyhd8ed1ab_0          11 KB  conda-forge\n",
            "    ------------------------------------------------------------\n",
            "                                           Total:         9.2 MB\n",
            "\n",
            "The following NEW packages will be INSTALLED:\n",
            "\n",
            "  cyrus-sasl         conda-forge/linux-64::cyrus-sasl-2.1.27-h3274739_1\n",
            "  future             conda-forge/linux-64::future-0.18.2-py37h89c1867_3\n",
            "  greenlet           conda-forge/linux-64::greenlet-1.1.0-py37hcd2ae1e_0\n",
            "  importlib-metadata conda-forge/linux-64::importlib-metadata-4.5.0-py37h89c1867_0\n",
            "  libntlm            conda-forge/linux-64::libntlm-1.4-h7f98852_1002\n",
            "  pyhive             conda-forge/noarch::pyhive-0.6.4-pyhd8ed1ab_0\n",
            "  python-dateutil    conda-forge/noarch::python-dateutil-2.8.1-py_0\n",
            "  sasl               conda-forge/linux-64::sasl-0.3a1-py37hcd2ae1e_0\n",
            "  sqlalchemy         conda-forge/linux-64::sqlalchemy-1.4.18-py37h5e8e339_0\n",
            "  thrift             conda-forge/linux-64::thrift-0.13.0-py37hcd2ae1e_2\n",
            "  thrift_sasl        conda-forge/linux-64::thrift_sasl-0.4.2-py37h8f50634_0\n",
            "  typing_extensions  conda-forge/noarch::typing_extensions-3.10.0.0-pyha770c72_0\n",
            "  zipp               conda-forge/noarch::zipp-3.4.1-pyhd8ed1ab_0\n",
            "\n",
            "The following packages will be UPDATED:\n",
            "\n",
            "  ca-certificates                      2020.12.5-ha878542_0 --> 2021.5.30-ha878542_0\n",
            "  certifi                          2020.12.5-py37h89c1867_1 --> 2021.5.30-py37h89c1867_0\n",
            "  conda                                4.9.2-py37h89c1867_0 --> 4.10.1-py37h89c1867_0\n",
            "  openssl                                 1.1.1j-h7f98852_0 --> 1.1.1k-h7f98852_0\n",
            "\n",
            "\n",
            "\n",
            "Downloading and Extracting Packages\n",
            "openssl-1.1.1k       | 2.1 MB    | : 100% 1.0/1 [00:00<00:00,  1.97it/s]\n",
            "certifi-2021.5.30    | 141 KB    | : 100% 1.0/1 [00:00<00:00, 17.19it/s]\n",
            "python-dateutil-2.8. | 220 KB    | : 100% 1.0/1 [00:00<00:00, 10.43it/s]\n",
            "thrift_sasl-0.4.2    | 14 KB     | : 100% 1.0/1 [00:00<00:00, 25.40it/s]\n",
            "sasl-0.3a1           | 74 KB     | : 100% 1.0/1 [00:00<00:00, 21.60it/s]\n",
            "importlib-metadata-4 | 31 KB     | : 100% 1.0/1 [00:00<00:00, 24.60it/s]\n",
            "pyhive-0.6.4         | 39 KB     | : 100% 1.0/1 [00:00<00:00, 11.26it/s]\n",
            "conda-4.10.1         | 3.1 MB    | : 100% 1.0/1 [00:00<00:00,  1.21it/s]\n",
            "ca-certificates-2021 | 136 KB    | : 100% 1.0/1 [00:00<00:00, 16.01it/s]\n",
            "typing_extensions-3. | 28 KB     | : 100% 1.0/1 [00:00<00:00, 18.58it/s]\n",
            "zipp-3.4.1           | 11 KB     | : 100% 1.0/1 [00:00<00:00, 25.78it/s]\n",
            "libntlm-1.4          | 32 KB     | : 100% 1.0/1 [00:00<00:00, 16.46it/s]\n",
            "sqlalchemy-1.4.18    | 2.2 MB    | : 100% 1.0/1 [00:00<00:00,  1.32it/s]\n",
            "cyrus-sasl-2.1.27    | 224 KB    | : 100% 1.0/1 [00:00<00:00, 10.43it/s]\n",
            "thrift-0.13.0        | 120 KB    | : 100% 1.0/1 [00:00<00:00, 13.99it/s]\n",
            "greenlet-1.1.0       | 83 KB     | : 100% 1.0/1 [00:00<00:00, 17.99it/s]\n",
            "future-0.18.2        | 714 KB    | : 100% 1.0/1 [00:00<00:00,  3.81it/s]\n",
            "Preparing transaction: | \b\bdone\n",
            "Verifying transaction: - \b\b\\ \b\b| \b\b/ \b\bdone\n",
            "Executing transaction: \\ \b\b| \b\b/ \b\b- \b\b\\ \b\b| \b\b/ \b\b- \b\b\\ \b\b| \b\bdone\n"
          ],
          "name": "stdout"
        }
      ]
    },
    {
      "cell_type": "code",
      "metadata": {
        "id": "EWlrmHIUAmcv"
      },
      "source": [
        "#import libs\n",
        "from pyhive import hive\n",
        "from TCLIService.ttypes import TOperationState"
      ],
      "execution_count": 2,
      "outputs": []
    },
    {
      "cell_type": "code",
      "metadata": {
        "id": "KMR61J86Amc3"
      },
      "source": [
        "# try to connect\n",
        "server=\"ec2-34-254-248-152.eu-west-1.compute.amazonaws.com\"\n",
        "cursor = hive.connect(server).cursor()"
      ],
      "execution_count": 3,
      "outputs": []
    },
    {
      "cell_type": "code",
      "metadata": {
        "id": "-TeEo3_qAmdF"
      },
      "source": [
        "#show our databases\n",
        "cursor.execute('show databases')"
      ],
      "execution_count": 4,
      "outputs": []
    },
    {
      "cell_type": "code",
      "metadata": {
        "colab": {
          "base_uri": "https://localhost:8080/"
        },
        "id": "eJEzofTGAmdL",
        "outputId": "a3bbbf62-9f65-47c7-97d9-10e919b6b313"
      },
      "source": [
        "#get data from execution\n",
        "cursor.fetchall()"
      ],
      "execution_count": 5,
      "outputs": [
        {
          "output_type": "execute_result",
          "data": {
            "text/plain": [
              "[('default',)]"
            ]
          },
          "metadata": {
            "tags": []
          },
          "execution_count": 5
        }
      ]
    },
    {
      "cell_type": "code",
      "metadata": {
        "id": "kZjhzdAYAmdQ"
      },
      "source": [
        "#use default db\n",
        "cursor.execute('use default')"
      ],
      "execution_count": 6,
      "outputs": []
    },
    {
      "cell_type": "code",
      "metadata": {
        "id": "gPe62rHFAmdU"
      },
      "source": [
        "#show tables in db\n",
        "cursor.execute('show tables')"
      ],
      "execution_count": 7,
      "outputs": []
    },
    {
      "cell_type": "code",
      "metadata": {
        "colab": {
          "base_uri": "https://localhost:8080/"
        },
        "id": "fVsYbSHPAmdZ",
        "outputId": "923b2048-2816-42d1-e3fd-65ed8d23798d"
      },
      "source": [
        "cursor.fetchall()"
      ],
      "execution_count": 8,
      "outputs": [
        {
          "output_type": "execute_result",
          "data": {
            "text/plain": [
              "[('employee',), ('salary',)]"
            ]
          },
          "metadata": {
            "tags": []
          },
          "execution_count": 8
        }
      ]
    },
    {
      "cell_type": "code",
      "metadata": {
        "colab": {
          "base_uri": "https://localhost:8080/"
        },
        "id": "d6-UE6HLAmda",
        "outputId": "b6336ed5-c567-4e12-c13c-e579df15281c"
      },
      "source": [
        "# get table layout\n",
        "cursor.execute('describe employee')\n",
        "cursor.fetchall()"
      ],
      "execution_count": 9,
      "outputs": [
        {
          "output_type": "execute_result",
          "data": {
            "text/plain": [
              "[('employee_id', 'int', ''),\n",
              " ('birthday', 'date', ''),\n",
              " ('first_name', 'string', ''),\n",
              " ('family_name', 'string', ''),\n",
              " ('gender', 'char(1)', ''),\n",
              " ('work_day', 'date', '')]"
            ]
          },
          "metadata": {
            "tags": []
          },
          "execution_count": 9
        }
      ]
    },
    {
      "cell_type": "code",
      "metadata": {
        "id": "56VZ82bxAmdc"
      },
      "source": [
        "#select data\n",
        "cursor.execute('select * from employee limit 100')"
      ],
      "execution_count": 20,
      "outputs": []
    },
    {
      "cell_type": "code",
      "metadata": {
        "id": "5Ngz8KjiAmdd"
      },
      "source": [
        "#get daata from selction\n",
        "employee = cursor.fetchall()"
      ],
      "execution_count": 21,
      "outputs": []
    },
    {
      "cell_type": "code",
      "metadata": {
        "colab": {
          "base_uri": "https://localhost:8080/"
        },
        "id": "vNPfq4oAAmde",
        "outputId": "61ec4113-39ac-403f-d1d6-fdcc3fe549d5"
      },
      "source": [
        "len(employee) #this is a list"
      ],
      "execution_count": 22,
      "outputs": [
        {
          "output_type": "execute_result",
          "data": {
            "text/plain": [
              "100"
            ]
          },
          "metadata": {
            "tags": []
          },
          "execution_count": 22
        }
      ]
    },
    {
      "cell_type": "code",
      "metadata": {
        "colab": {
          "base_uri": "https://localhost:8080/"
        },
        "id": "pvBHJljsAmdf",
        "outputId": "ad44774b-9ffa-4661-c871-acb123a672e6"
      },
      "source": [
        "#have a look\n",
        "employee[:10]"
      ],
      "execution_count": 23,
      "outputs": [
        {
          "output_type": "execute_result",
          "data": {
            "text/plain": [
              "[(10001, None, \"'Georgi'\", \"'Facello'\", \"'\", None),\n",
              " (10002, None, \"'Bezalel'\", \"'Simmel'\", \"'\", None),\n",
              " (10003, None, \"'Parto'\", \"'Bamford'\", \"'\", None),\n",
              " (10004, None, \"'Chirstian'\", \"'Koblick'\", \"'\", None),\n",
              " (10005, None, \"'Kyoichi'\", \"'Maliniak'\", \"'\", None),\n",
              " (10006, None, \"'Anneke'\", \"'Preusig'\", \"'\", None),\n",
              " (10007, None, \"'Tzvetan'\", \"'Zielinski'\", \"'\", None),\n",
              " (10008, None, \"'Saniya'\", \"'Kalloufi'\", \"'\", None),\n",
              " (10009, None, \"'Sumant'\", \"'Peac'\", \"'\", None),\n",
              " (10010, None, \"'Duangkaew'\", \"'Piveteau'\", \"'\", None)]"
            ]
          },
          "metadata": {
            "tags": []
          },
          "execution_count": 23
        }
      ]
    },
    {
      "cell_type": "code",
      "metadata": {
        "colab": {
          "base_uri": "https://localhost:8080/"
        },
        "id": "Hhl5r58SAmdf",
        "outputId": "629e83aa-3c3c-40ee-bd2d-07c00eddf105"
      },
      "source": [
        "# get salary table layout\n",
        "cursor.execute('describe salary')\n",
        "cursor.fetchall()"
      ],
      "execution_count": 24,
      "outputs": [
        {
          "output_type": "execute_result",
          "data": {
            "text/plain": [
              "[('employee_id', 'int', ''),\n",
              " ('salary', 'int', ''),\n",
              " ('start_date', 'date', ''),\n",
              " ('end_date', 'date', '')]"
            ]
          },
          "metadata": {
            "tags": []
          },
          "execution_count": 24
        }
      ]
    },
    {
      "cell_type": "code",
      "metadata": {
        "id": "jo5hCfEkAmdg"
      },
      "source": [
        "#select data\n",
        "cursor.execute('select * from salary limit 100')"
      ],
      "execution_count": 25,
      "outputs": []
    },
    {
      "cell_type": "code",
      "metadata": {
        "id": "VXwyuFhiAmdi"
      },
      "source": [
        "#get daata from selction\n",
        "salary = cursor.fetchall()"
      ],
      "execution_count": 26,
      "outputs": []
    },
    {
      "cell_type": "code",
      "metadata": {
        "colab": {
          "base_uri": "https://localhost:8080/"
        },
        "id": "Rt3IjMChAmdj",
        "outputId": "5f8ccce8-c967-465c-c42d-f9cafb640693"
      },
      "source": [
        "salary[:10]"
      ],
      "execution_count": 27,
      "outputs": [
        {
          "output_type": "execute_result",
          "data": {
            "text/plain": [
              "[(10001, 60117, None, None),\n",
              " (10001, 62102, None, None),\n",
              " (10001, 66074, None, None),\n",
              " (10001, 66596, None, None),\n",
              " (10001, 66961, None, None),\n",
              " (10001, 71046, None, None),\n",
              " (10001, 74333, None, None),\n",
              " (10001, 75286, None, None),\n",
              " (10001, 75994, None, None),\n",
              " (10001, 76884, None, None)]"
            ]
          },
          "metadata": {
            "tags": []
          },
          "execution_count": 27
        }
      ]
    },
    {
      "cell_type": "markdown",
      "metadata": {
        "id": "U0J-FgRZAmdk"
      },
      "source": [
        "## Ex 1\n",
        "Get employees sorted by ``family_name``. Return first 10 entries."
      ]
    },
    {
      "cell_type": "code",
      "metadata": {
        "id": "G0xXwJkoAmdl"
      },
      "source": [
        "cursor.execute(\"select * from employee order by family_name limit 10\")"
      ],
      "execution_count": 33,
      "outputs": []
    },
    {
      "cell_type": "code",
      "metadata": {
        "colab": {
          "base_uri": "https://localhost:8080/"
        },
        "id": "dgJGENyXAmdl",
        "outputId": "4961e538-c57e-4f7a-cf9d-d2986aa64011"
      },
      "source": [
        "cursor.fetchall()"
      ],
      "execution_count": 34,
      "outputs": [
        {
          "output_type": "execute_result",
          "data": {
            "text/plain": [
              "[(11761, None, \"'Bartek'\", \"'Aamodt'\", \"'\", None),\n",
              " (493102, None, \"'Srinidhi'\", \"'Aamodt'\", \"'\", None),\n",
              " (19898, None, \"'Vidar'\", \"'Aamodt'\", \"'\", None),\n",
              " (12791, None, \"'Mokhtar'\", \"'Aamodt'\", \"'\", None),\n",
              " (12516, None, \"'Sreenivas'\", \"'Aamodt'\", \"'\", None),\n",
              " (16572, None, \"'Matt'\", \"'Aamodt'\", \"'\", None),\n",
              " (18182, None, \"'Dekang'\", \"'Aamodt'\", \"'\", None),\n",
              " (493601, None, \"'Sreekrishna'\", \"'Aamodt'\", \"'\", None),\n",
              " (15427, None, \"'Aluzio'\", \"'Aamodt'\", \"'\", None),\n",
              " (17400, None, \"'Basim'\", \"'Aamodt'\", \"'\", None)]"
            ]
          },
          "metadata": {
            "tags": []
          },
          "execution_count": 34
        }
      ]
    },
    {
      "cell_type": "markdown",
      "metadata": {
        "id": "MRVggazGAmdm"
      },
      "source": [
        "## Ex 2\n",
        "Get ``family_name`` and ``salary`` of employees sorted by salary. Return first 100 entries. Hint: you need to join both tables..."
      ]
    },
    {
      "cell_type": "code",
      "metadata": {
        "id": "gtUj6IOAAmdn"
      },
      "source": [
        "cursor.execute(\"SELECT family_name, salary FROM employee JOIN salary ON (employee.employee_id = salary.employee_id) order by salary limit 100\")\n",
        "data=cursor.fetchall()"
      ],
      "execution_count": 35,
      "outputs": []
    },
    {
      "cell_type": "code",
      "metadata": {
        "id": "Zo6y7pPDL4py",
        "outputId": "65c98d28-dab3-4710-cd5b-5ce228cb199e",
        "colab": {
          "base_uri": "https://localhost:8080/"
        }
      },
      "source": [
        "data"
      ],
      "execution_count": 37,
      "outputs": [
        {
          "output_type": "execute_result",
          "data": {
            "text/plain": [
              "[(\"'Baek'\", 38623),\n",
              " (\"'Unno'\", 38735),\n",
              " (\"'Kuhnemann'\", 38786),\n",
              " (\"'Narwekar'\", 38812),\n",
              " (\"'Langford'\", 38836),\n",
              " (\"'Kobuchi'\", 38849),\n",
              " (\"'Biran'\", 38850),\n",
              " (\"'Syang'\", 38851),\n",
              " (\"'Unno'\", 38859),\n",
              " (\"'Rohrbach'\", 38864),\n",
              " (\"'Nitsche'\", 38872),\n",
              " (\"'Reinhard'\", 38874),\n",
              " (\"'Copas'\", 38888),\n",
              " (\"'Champarnaud'\", 38916),\n",
              " (\"'Assaf'\", 38923),\n",
              " (\"'Munch'\", 38927),\n",
              " (\"'Perri'\", 38928),\n",
              " (\"'Yavatkar'\", 38932),\n",
              " (\"'Lueh'\", 38936),\n",
              " (\"'Nicolson'\", 38942),\n",
              " (\"'Werthner'\", 38963),\n",
              " (\"'England'\", 38990),\n",
              " (\"'Rosis'\", 39006),\n",
              " (\"'Narwekar'\", 39012),\n",
              " (\"'Oehlmann'\", 39018),\n",
              " (\"'Legleitner'\", 39018),\n",
              " (\"'Cooke'\", 39020),\n",
              " (\"'Raney'\", 39023),\n",
              " (\"'Couchot'\", 39031),\n",
              " (\"'Stafford'\", 39035),\n",
              " (\"'Kushnir'\", 39035),\n",
              " (\"'Limongiello'\", 39036),\n",
              " (\"'Schmiedel'\", 39036),\n",
              " (\"'Hoogerwoord'\", 39046),\n",
              " (\"'Schauser'\", 39050),\n",
              " (\"'Onuegbe'\", 39054),\n",
              " (\"'Kushner'\", 39057),\n",
              " (\"'Langford'\", 39060),\n",
              " (\"'Zhang'\", 39062),\n",
              " (\"'Kushnir'\", 39063),\n",
              " (\"'Backhouse'\", 39066),\n",
              " (\"'Narwekar'\", 39069),\n",
              " (\"'Wielonsky'\", 39071),\n",
              " (\"'Bail'\", 39072),\n",
              " (\"'Breugel'\", 39073),\n",
              " (\"'Mansanne'\", 39075),\n",
              " (\"'Collette'\", 39081),\n",
              " (\"'Manderick'\", 39085),\n",
              " (\"'Butner'\", 39089),\n",
              " (\"'Michaels'\", 39089),\n",
              " (\"'Rosenbaum'\", 39094),\n",
              " (\"'Suri'\", 39096),\n",
              " (\"'Navazio'\", 39098),\n",
              " (\"'Kobuchi'\", 39100),\n",
              " (\"'Gonthier'\", 39102),\n",
              " (\"'Collavizza'\", 39103),\n",
              " (\"'Fritzsche'\", 39105),\n",
              " (\"'Baek'\", 39110),\n",
              " (\"'Przulj'\", 39112),\n",
              " (\"'Bednarek'\", 39115),\n",
              " (\"'Nitsche'\", 39115),\n",
              " (\"'Talmor'\", 39117),\n",
              " (\"'Cincotta'\", 39117),\n",
              " (\"'Ambroszkiewicz'\", 39118),\n",
              " (\"'Seiwald'\", 39119),\n",
              " (\"'Yamaashi'\", 39120),\n",
              " (\"'Cesareni'\", 39120),\n",
              " (\"'Atrawala'\", 39121),\n",
              " (\"'Mansanne'\", 39123),\n",
              " (\"'Erdmenger'\", 39124),\n",
              " (\"'Gomatam'\", 39127),\n",
              " (\"'Engberts'\", 39127),\n",
              " (\"'Mamelak'\", 39128),\n",
              " (\"'Talmor'\", 39128),\n",
              " (\"'Tomescu'\", 39128),\n",
              " (\"'Reeken'\", 39129),\n",
              " (\"'Gecsei'\", 39129),\n",
              " (\"'Ozeki'\", 39142),\n",
              " (\"'Neiman'\", 39142),\n",
              " (\"'Brizzi'\", 39143),\n",
              " (\"'Masamoto'\", 39143),\n",
              " (\"'McFarlin'\", 39146),\n",
              " (\"'Peac'\", 39146),\n",
              " (\"'Falby'\", 39147),\n",
              " (\"'Kroll'\", 39147),\n",
              " (\"'Marzano'\", 39150),\n",
              " (\"'Ranft'\", 39158),\n",
              " (\"'Woycyznski'\", 39161),\n",
              " (\"'Uchoa'\", 39161),\n",
              " (\"'Arlazarov'\", 39162),\n",
              " (\"'Griswold'\", 39166),\n",
              " (\"'Harbusch'\", 39166),\n",
              " (\"'Chiodo'\", 39169),\n",
              " (\"'Braunschweig'\", 39170),\n",
              " (\"'Ambroszkiewicz'\", 39171),\n",
              " (\"'Verspoor'\", 39172),\n",
              " (\"'Radwan'\", 39173),\n",
              " (\"'Kranzdorf'\", 39175),\n",
              " (\"'Bresenham'\", 39175),\n",
              " (\"'Baez'\", 39177)]"
            ]
          },
          "metadata": {
            "tags": []
          },
          "execution_count": 37
        }
      ]
    },
    {
      "cell_type": "markdown",
      "metadata": {
        "id": "-_a8QXhVAmdn"
      },
      "source": [
        "## Ex 3\n",
        "Get the average salary by gender. Hint: use Group by"
      ]
    },
    {
      "cell_type": "code",
      "metadata": {
        "id": "IZUWmKriAmdp"
      },
      "source": [
        "cursor.execute(\"SELECT AVG(salary)\")\n",
        "cursor.fetchall()"
      ],
      "execution_count": null,
      "outputs": []
    },
    {
      "cell_type": "code",
      "metadata": {
        "id": "2fQpSRw2Amdq"
      },
      "source": [
        ""
      ],
      "execution_count": null,
      "outputs": []
    }
  ]
}