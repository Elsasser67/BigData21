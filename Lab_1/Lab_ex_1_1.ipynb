{
  "nbformat": 4,
  "nbformat_minor": 0,
  "metadata": {
    "kernelspec": {
      "display_name": "Python 3",
      "language": "python",
      "name": "python3"
    },
    "language_info": {
      "codemirror_mode": {
        "name": "ipython",
        "version": 3
      },
      "file_extension": ".py",
      "mimetype": "text/x-python",
      "name": "python",
      "nbconvert_exporter": "python",
      "pygments_lexer": "ipython3",
      "version": "3.7.6"
    },
    "colab": {
      "name": "Lab_ex_1_1.ipynb",
      "provenance": []
    }
  },
  "cells": [
    {
      "cell_type": "markdown",
      "metadata": {
        "id": "hFheNhvg2ETk"
      },
      "source": [
        "# Ex 1.1: MapReduce with Python Functional Programming"
      ]
    },
    {
      "cell_type": "markdown",
      "metadata": {
        "id": "IbVo-Z242ETv"
      },
      "source": [
        "#### Python *map* function\n",
        "Python has e built in *map* function -> [see python docs](https://docs.python.org/3/library/functions.html#map)\n",
        "* ``map(function, iterable object)`` applies a function to every member of the object (=data structure)\n",
        "* iterable objects are e.g. lists, dicts, arrays, ... but also custom data structures (see [here](https://thispointer.com/python-how-to-make-a-class-iterable-create-iterator-class-for-it/))"
      ]
    },
    {
      "cell_type": "code",
      "metadata": {
        "id": "oSOTPsw52ET1",
        "outputId": "f2479eeb-29ce-4e82-d555-d3cfaa56473f",
        "colab": {
          "base_uri": "https://localhost:8080/"
        }
      },
      "source": [
        "#example\n",
        "def Plus1(a):\n",
        "    return a+1\n",
        "\n",
        "A = [1,2,3,4]\n",
        "print(A)\n",
        "B = list(map(Plus1,A)) #need to cast map output to list\n",
        "print(B)"
      ],
      "execution_count": 1,
      "outputs": [
        {
          "output_type": "stream",
          "text": [
            "[1, 2, 3, 4]\n",
            "[2, 3, 4, 5]\n"
          ],
          "name": "stdout"
        }
      ]
    },
    {
      "cell_type": "code",
      "metadata": {
        "id": "Px_b5IWw2ET-",
        "outputId": "c6f43362-e5b9-4726-c355-ab67f20e7e8d",
        "colab": {
          "base_uri": "https://localhost:8080/"
        }
      },
      "source": [
        "#example 2 - map with an function that takes arguments\n",
        "from functools import partial\n",
        "\n",
        "def PlusX(a,x):\n",
        "    return a+x\n",
        "\n",
        "\n",
        "A = [1,2,3,4]\n",
        "print(A)\n",
        "B = list(map(partial(PlusX,x=2),A)) #use partial to fix parameters \n",
        "print(B)\n",
        "\n",
        "C = [1,1,3,3]\n",
        "D = list(map(PlusX,A,C)) #or input multiple iterable objects\n",
        "print(D)"
      ],
      "execution_count": 2,
      "outputs": [
        {
          "output_type": "stream",
          "text": [
            "[1, 2, 3, 4]\n",
            "[3, 4, 5, 6]\n",
            "[2, 3, 6, 7]\n"
          ],
          "name": "stdout"
        }
      ]
    },
    {
      "cell_type": "code",
      "metadata": {
        "id": "x5_VtG5S2EUE",
        "outputId": "c18a4d70-360f-4a20-93d5-928d2f252ddf",
        "colab": {
          "base_uri": "https://localhost:8080/"
        }
      },
      "source": [
        "#example 3 - map with lmbda functions\n",
        "A = [1,2,3,4]\n",
        "B = list(map(lambda x:x+1,A ))#implement function directly with lambda\n",
        "print(B)"
      ],
      "execution_count": 3,
      "outputs": [
        {
          "output_type": "stream",
          "text": [
            "[2, 3, 4, 5]\n"
          ],
          "name": "stdout"
        }
      ]
    },
    {
      "cell_type": "code",
      "metadata": {
        "id": "_qp91n-e2EUK",
        "outputId": "4d5a1131-f344-4458-d593-08fa8d55e920",
        "colab": {
          "base_uri": "https://localhost:8080/"
        }
      },
      "source": [
        "#example 4 - Numpy has map \"build in\"\n",
        "import numpy as np\n",
        "A = np.random.rand(10,10)*20\n",
        "A"
      ],
      "execution_count": 4,
      "outputs": [
        {
          "output_type": "execute_result",
          "data": {
            "text/plain": [
              "array([[16.43469986,  2.00562362, 18.98851885,  9.89425827,  9.9320783 ,\n",
              "        19.85151618, 16.23546121, 18.59835865, 18.80877979, 19.70869004],\n",
              "       [ 1.96952402, 13.03086538,  0.04290068,  9.11585   , 12.8181149 ,\n",
              "         7.43651592,  7.56199351,  0.70125989, 18.70240368,  5.1308863 ],\n",
              "       [ 4.73892578, 10.27604935, 10.41361138,  2.95400411,  2.39060952,\n",
              "        19.70617769,  3.44106542, 17.84322252,  1.9822502 , 13.44496681],\n",
              "       [ 7.96902635,  5.30925003,  5.84726719,  9.17057099,  0.71976918,\n",
              "        16.91480571,  2.62612075,  1.35953389, 17.03906601,  7.89109439],\n",
              "       [ 9.38118667,  0.71326148, 17.26629095,  1.77872626, 18.42740849,\n",
              "         6.56156721, 14.32392454,  5.92246479, 19.37962186, 10.8905103 ],\n",
              "       [ 1.50650391,  3.33752447, 18.06688904,  2.17563986,  6.13241256,\n",
              "         9.43579718,  6.40173544, 13.73429276, 11.57534444,  1.64978574],\n",
              "       [ 8.41011358,  5.77497133, 19.90137091, 15.55925453,  9.91625397,\n",
              "         6.21682383, 12.5626994 ,  5.63041515, 18.45939024, 15.39677826],\n",
              "       [ 2.31212253, 18.45342873,  3.65711935,  8.72813172,  3.77419203,\n",
              "         9.28998918,  4.59054868, 18.99535235, 11.01682996,  6.4186251 ],\n",
              "       [ 6.90097611,  4.1047425 , 10.62962116,  0.74520059,  2.63393473,\n",
              "         3.35716693, 13.00896858, 10.37695219, 10.95563501, 10.60548731],\n",
              "       [15.96472571, 14.5759585 , 16.2417504 , 18.30491258,  7.75933343,\n",
              "        16.3161081 ,  0.97542566, 11.4541405 ,  4.62496089,  0.2617    ]])"
            ]
          },
          "metadata": {
            "tags": []
          },
          "execution_count": 4
        }
      ]
    },
    {
      "cell_type": "code",
      "metadata": {
        "id": "DjMpPokJ2EUS"
      },
      "source": [
        "#apply function directly on each element of an array\n",
        "def isLarger10(x):\n",
        "    return x>10\n",
        "\n",
        "B = isLarger10(A)"
      ],
      "execution_count": null,
      "outputs": []
    },
    {
      "cell_type": "code",
      "metadata": {
        "id": "6zJmbAPT2EUT",
        "outputId": "1820b9d0-14c8-412b-cd96-b36578911f56"
      },
      "source": [
        "B"
      ],
      "execution_count": null,
      "outputs": [
        {
          "output_type": "execute_result",
          "data": {
            "text/plain": [
              "array([[False,  True,  True, False, False, False,  True, False, False,\n",
              "        False],\n",
              "       [False, False,  True,  True, False, False, False, False,  True,\n",
              "         True],\n",
              "       [ True,  True,  True, False,  True, False, False,  True, False,\n",
              "        False],\n",
              "       [ True,  True,  True, False,  True,  True, False, False, False,\n",
              "        False],\n",
              "       [ True, False,  True,  True, False,  True, False,  True, False,\n",
              "        False],\n",
              "       [False, False, False,  True,  True,  True,  True, False, False,\n",
              "         True],\n",
              "       [ True,  True,  True, False,  True, False,  True, False, False,\n",
              "        False],\n",
              "       [False,  True, False,  True,  True, False, False,  True,  True,\n",
              "         True],\n",
              "       [False, False,  True, False, False, False,  True,  True, False,\n",
              "         True],\n",
              "       [ True,  True,  True,  True, False,  True,  True, False,  True,\n",
              "        False]])"
            ]
          },
          "metadata": {
            "tags": []
          },
          "execution_count": 6
        }
      ]
    },
    {
      "cell_type": "markdown",
      "metadata": {
        "id": "DzH3AJNH2EUY"
      },
      "source": [
        "#### *Reduce* in Python\n",
        "*functools* also provides a *reduce* function. Again, it will take a function and one ore more iterable objects as arguments. (see [API](https://docs.python.org/3/library/functools.html#functools.reduce))"
      ]
    },
    {
      "cell_type": "code",
      "metadata": {
        "id": "LpVVq4yq2EUa",
        "outputId": "49b326ea-31b4-4dc1-cfc9-85a1fd16a667",
        "colab": {
          "base_uri": "https://localhost:8080/"
        }
      },
      "source": [
        "# importing functools for reduce() \n",
        "import functools \n",
        "  \n",
        "# initializing list \n",
        "lis = [ 1 , 3, 5, 6, 2, ] \n",
        "  \n",
        "def addIt(a,b):\n",
        "    return a+b\n",
        "\n",
        "# using reduce to compute sum of list \n",
        "print (\"The sum of the list elements is : \",end=\"\") \n",
        "print (functools.reduce(addIt,lis)) \n",
        "  \n",
        "# using reduce to compute maximum element from list \n",
        "print (\"The maximum element of the list is : \",end=\"\") \n",
        "print (functools.reduce(lambda a,b : a if a > b else b,lis)) "
      ],
      "execution_count": 5,
      "outputs": [
        {
          "output_type": "stream",
          "text": [
            "The sum of the list elements is : 17\n",
            "The maximum element of the list is : 6\n"
          ],
          "name": "stdout"
        }
      ]
    },
    {
      "cell_type": "markdown",
      "metadata": {
        "id": "rqXySkg62EUd"
      },
      "source": [
        "#### Splitting"
      ]
    },
    {
      "cell_type": "code",
      "metadata": {
        "id": "REAV6p2O2EUh",
        "outputId": "2d231b76-6487-4b15-f572-87da7ca6b8ff",
        "colab": {
          "base_uri": "https://localhost:8080/"
        }
      },
      "source": [
        "import more_itertools as mit\n",
        "\n",
        "A=[1,2,3,4,5,6,7,8,9]\n",
        "B=list(mit.chunked(A, 3)) #split into lists of max size 3\n",
        "\n",
        "for i in B: #iterate over the spitts \n",
        "    print(i)"
      ],
      "execution_count": 6,
      "outputs": [
        {
          "output_type": "stream",
          "text": [
            "[1, 2, 3]\n",
            "[4, 5, 6]\n",
            "[7, 8, 9]\n"
          ],
          "name": "stdout"
        }
      ]
    },
    {
      "cell_type": "code",
      "metadata": {
        "id": "3zO2gE7U2EUk",
        "outputId": "1fd558a6-baf7-4399-fc39-b72d0a6ad8b3",
        "colab": {
          "base_uri": "https://localhost:8080/"
        }
      },
      "source": [
        "A='this is a short text in form of a python string'\n",
        "B=list(mit.chunked(A, 5)) #split into lists of max size 5\n",
        "\n",
        "for i in B: #iterate over the spitts \n",
        "    print(i)"
      ],
      "execution_count": 7,
      "outputs": [
        {
          "output_type": "stream",
          "text": [
            "['t', 'h', 'i', 's', ' ']\n",
            "['i', 's', ' ', 'a', ' ']\n",
            "['s', 'h', 'o', 'r', 't']\n",
            "[' ', 't', 'e', 'x', 't']\n",
            "[' ', 'i', 'n', ' ', 'f']\n",
            "['o', 'r', 'm', ' ', 'o']\n",
            "['f', ' ', 'a', ' ', 'p']\n",
            "['y', 't', 'h', 'o', 'n']\n",
            "[' ', 's', 't', 'r', 'i']\n",
            "['n', 'g']\n"
          ],
          "name": "stdout"
        }
      ]
    },
    {
      "cell_type": "markdown",
      "metadata": {
        "id": "bbN3PwEw2EUn"
      },
      "source": [
        "## Exercise: build a simple *Character Count* Algorithm based on the above *split, map* and *reduce* operators "
      ]
    },
    {
      "cell_type": "code",
      "metadata": {
        "id": "eUJvVVH72EUp"
      },
      "source": [
        "#some text from NYTimes\n",
        "text = ' Byron Spencer, handing out water and burgers to protesters outside Los Angeles City Hall, said he was both “elated and defeated” by word of the new charges. He said he had seen countless surges of outrage over police brutality against black men, only to have it happen again. “I’m 55, I’m black and I’m male — I’ve seen the cycle,” he said. “It’s almost like PTSD constantly having this conversation with my son.” Cierra Sesay reacted to the charges at a demonstration in the shadow of the State Capitol in Denver. “It’s amazing, it’s another box we can check,” she said. “But it goes up so much higher. It’s about the system.” In San Francisco, Tevita Tomasi — who is of Polynesian descent and described himself as “dark and tall and big” — said he regularly faced racial profiling, evidence of the bigger forces that must be overcome. On Wednesday, he distributed bottled water at what he said was his first demonstration, but one that would not be his last. What would stop him from protesting?'"
      ],
      "execution_count": 9,
      "outputs": []
    },
    {
      "cell_type": "markdown",
      "metadata": {
        "id": "xkSZTZR-2EUt"
      },
      "source": [
        "* HINT: use list of *python* [dictionaries](https://docs.python.org/3/tutorial/datastructures.html#dictionaries) to store the character counts in the map\n",
        "* HINT 2: merge the dicts in reduce"
      ]
    },
    {
      "cell_type": "code",
      "metadata": {
        "id": "m2Me4uB12EUw"
      },
      "source": [
        "dict = {}\n",
        "split = list(mit.chunked(text, 7))"
      ],
      "execution_count": 10,
      "outputs": []
    },
    {
      "cell_type": "code",
      "metadata": {
        "id": "Sk0NsRFf726J"
      },
      "source": [
        "from collections import Counter"
      ],
      "execution_count": 11,
      "outputs": []
    },
    {
      "cell_type": "code",
      "metadata": {
        "id": "w9kDVA8H7_0x"
      },
      "source": [
        "def counterFunction(listArgument):\n",
        "  return Counter(listArgument)"
      ],
      "execution_count": 14,
      "outputs": []
    },
    {
      "cell_type": "code",
      "metadata": {
        "id": "6i9UnUw88GfD"
      },
      "source": [
        "split = list(map(counterFunction,split))"
      ],
      "execution_count": 15,
      "outputs": []
    },
    {
      "cell_type": "code",
      "metadata": {
        "id": "jDL6vNZG8utv"
      },
      "source": [
        "def reduceDict(A, B):\n",
        "  return A + B"
      ],
      "execution_count": 20,
      "outputs": []
    },
    {
      "cell_type": "code",
      "metadata": {
        "id": "CSnLxEk-8KOg"
      },
      "source": [
        "reduce = (functools.reduce(reduceDict, split))"
      ],
      "execution_count": 21,
      "outputs": []
    },
    {
      "cell_type": "code",
      "metadata": {
        "id": "0LuWlhfX-K_i",
        "outputId": "719d1e49-b1d6-4c61-e254-48f203416b3a",
        "colab": {
          "base_uri": "https://localhost:8080/"
        }
      },
      "source": [
        "reduce"
      ],
      "execution_count": 33,
      "outputs": [
        {
          "output_type": "execute_result",
          "data": {
            "text/plain": [
              "Counter({' ': 176,\n",
              "         ',': 11,\n",
              "         '.': 10,\n",
              "         '5': 2,\n",
              "         '?': 1,\n",
              "         'A': 1,\n",
              "         'B': 2,\n",
              "         'C': 3,\n",
              "         'D': 2,\n",
              "         'F': 1,\n",
              "         'H': 2,\n",
              "         'I': 8,\n",
              "         'L': 1,\n",
              "         'O': 1,\n",
              "         'P': 2,\n",
              "         'S': 5,\n",
              "         'T': 3,\n",
              "         'W': 2,\n",
              "         'a': 72,\n",
              "         'b': 16,\n",
              "         'c': 25,\n",
              "         'd': 36,\n",
              "         'e': 89,\n",
              "         'f': 12,\n",
              "         'g': 19,\n",
              "         'h': 39,\n",
              "         'i': 49,\n",
              "         'k': 5,\n",
              "         'l': 28,\n",
              "         'm': 18,\n",
              "         'n': 49,\n",
              "         'o': 52,\n",
              "         'p': 10,\n",
              "         'r': 38,\n",
              "         's': 59,\n",
              "         't': 72,\n",
              "         'u': 17,\n",
              "         'v': 9,\n",
              "         'w': 13,\n",
              "         'x': 1,\n",
              "         'y': 13,\n",
              "         'z': 1,\n",
              "         '—': 3,\n",
              "         '’': 8,\n",
              "         '“': 6,\n",
              "         '”': 6})"
            ]
          },
          "metadata": {
            "tags": []
          },
          "execution_count": 33
        }
      ]
    }
  ]
}