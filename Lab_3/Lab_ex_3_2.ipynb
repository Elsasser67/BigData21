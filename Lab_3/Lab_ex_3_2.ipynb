{
  "nbformat": 4,
  "nbformat_minor": 0,
  "metadata": {
    "kernelspec": {
      "display_name": "Python 3",
      "language": "python",
      "name": "python3"
    },
    "language_info": {
      "codemirror_mode": {
        "name": "ipython",
        "version": 3
      },
      "file_extension": ".py",
      "mimetype": "text/x-python",
      "name": "python",
      "nbconvert_exporter": "python",
      "pygments_lexer": "ipython3",
      "version": "3.7.6"
    },
    "colab": {
      "name": "Lab_ex_3_2.ipynb",
      "provenance": []
    }
  },
  "cells": [
    {
      "cell_type": "markdown",
      "metadata": {
        "id": "wQcdzmymRF7E"
      },
      "source": [
        "# Ex. 3.2 HBASE\n",
        "We use the *HappyBase* lib: https://happybase.readthedocs.io/en/latest/installation.html"
      ]
    },
    {
      "cell_type": "code",
      "metadata": {
        "id": "EkbUv7C5RF7J",
        "outputId": "029daad8-179d-49d9-dd22-3698c93da1cc",
        "colab": {
          "base_uri": "https://localhost:8080/"
        }
      },
      "source": [
        "!pip install happybase"
      ],
      "execution_count": 15,
      "outputs": [
        {
          "output_type": "stream",
          "text": [
            "Requirement already satisfied: happybase in /usr/local/lib/python3.7/dist-packages (1.2.0)\n",
            "Requirement already satisfied: six in /usr/local/lib/python3.7/dist-packages (from happybase) (1.15.0)\n",
            "Requirement already satisfied: thriftpy2>=0.4 in /usr/local/lib/python3.7/dist-packages (from happybase) (0.4.14)\n",
            "Requirement already satisfied: ply<4.0,>=3.4 in /usr/local/lib/python3.7/dist-packages (from thriftpy2>=0.4->happybase) (3.11)\n"
          ],
          "name": "stdout"
        }
      ]
    },
    {
      "cell_type": "code",
      "metadata": {
        "id": "9WDXkOqdRF7M"
      },
      "source": [
        "# imports\n",
        "import happybase\n",
        "\n"
      ],
      "execution_count": 16,
      "outputs": []
    },
    {
      "cell_type": "code",
      "metadata": {
        "id": "IsLIkAXgRF7N"
      },
      "source": [
        "# try to connect\n",
        "server=\"ec2-34-254-248-152.eu-west-1.compute.amazonaws.com\" #need to change this for every lab-session\n",
        "connection = happybase.Connection(server)"
      ],
      "execution_count": 17,
      "outputs": []
    },
    {
      "cell_type": "code",
      "metadata": {
        "id": "IS_L7csURF7O"
      },
      "source": [
        "families = {\n",
        "    'cf1': dict(max_versions=10),\n",
        "    'cf2': dict(max_versions=1, block_cache_enabled=False),\n",
        "    'cf3': dict(),  # use defaults\n",
        "}"
      ],
      "execution_count": 18,
      "outputs": []
    },
    {
      "cell_type": "code",
      "metadata": {
        "id": "vub94Ez-RF7P"
      },
      "source": [
        "#connection.create_table('lab3', families)  # table allredy exists"
      ],
      "execution_count": 19,
      "outputs": []
    },
    {
      "cell_type": "code",
      "metadata": {
        "scrolled": true,
        "id": "R9TCoGksRF7Q",
        "outputId": "494316c7-5f97-4ac0-d2c2-d578648af900",
        "colab": {
          "base_uri": "https://localhost:8080/"
        }
      },
      "source": [
        "print(connection.tables())"
      ],
      "execution_count": 20,
      "outputs": [
        {
          "output_type": "stream",
          "text": [
            "[b'49a5b1a_employees', b'dh_user_id_employees', b'employee_Group2', b'employee_Group_2', b'employee_group_five', b'employees_smunaret', b'group1_employee', b'group3_user_id_employees', b'lab3', b'mspitzna_employees', b'tm_user_id_employees', b'user_id_employees']\n"
          ],
          "name": "stdout"
        }
      ]
    },
    {
      "cell_type": "code",
      "metadata": {
        "id": "MfJkPbRoRF7R"
      },
      "source": [
        "#connect to a table\n",
        "table = connection.table('lab3')"
      ],
      "execution_count": 21,
      "outputs": []
    },
    {
      "cell_type": "code",
      "metadata": {
        "id": "tl2RUmD_RF7S",
        "outputId": "1c39e011-f76c-4688-ce0c-179ad61d5b3a",
        "colab": {
          "base_uri": "https://localhost:8080/"
        }
      },
      "source": [
        "#see column families\n",
        "table.families()"
      ],
      "execution_count": 22,
      "outputs": [
        {
          "output_type": "execute_result",
          "data": {
            "text/plain": [
              "{b'cf1': {'block_cache_enabled': False,\n",
              "  'bloom_filter_nb_hashes': 0,\n",
              "  'bloom_filter_type': b'NONE',\n",
              "  'bloom_filter_vector_size': 0,\n",
              "  'compression': b'NONE',\n",
              "  'in_memory': False,\n",
              "  'max_versions': 10,\n",
              "  'name': b'cf1:',\n",
              "  'time_to_live': 2147483647},\n",
              " b'cf2': {'block_cache_enabled': False,\n",
              "  'bloom_filter_nb_hashes': 0,\n",
              "  'bloom_filter_type': b'NONE',\n",
              "  'bloom_filter_vector_size': 0,\n",
              "  'compression': b'NONE',\n",
              "  'in_memory': False,\n",
              "  'max_versions': 1,\n",
              "  'name': b'cf2:',\n",
              "  'time_to_live': 2147483647},\n",
              " b'cf3': {'block_cache_enabled': False,\n",
              "  'bloom_filter_nb_hashes': 0,\n",
              "  'bloom_filter_type': b'NONE',\n",
              "  'bloom_filter_vector_size': 0,\n",
              "  'compression': b'NONE',\n",
              "  'in_memory': False,\n",
              "  'max_versions': 3,\n",
              "  'name': b'cf3:',\n",
              "  'time_to_live': 2147483647}}"
            ]
          },
          "metadata": {
            "tags": []
          },
          "execution_count": 22
        }
      ]
    },
    {
      "cell_type": "code",
      "metadata": {
        "id": "RF6flkPJRF7V"
      },
      "source": [
        "#insert something\n",
        "table.put('row 6', {'cf1:col7': '17.33', 'cf1:col8': '344'})\n"
      ],
      "execution_count": 23,
      "outputs": []
    },
    {
      "cell_type": "code",
      "metadata": {
        "id": "iX2XU_j2RF7W"
      },
      "source": [
        "#read table\n",
        "res=table.scan()"
      ],
      "execution_count": 24,
      "outputs": []
    },
    {
      "cell_type": "code",
      "metadata": {
        "id": "ShBv0wsORF7a",
        "outputId": "c55a5fed-cd11-443c-8f5e-87bcfe4bd94c",
        "colab": {
          "base_uri": "https://localhost:8080/"
        }
      },
      "source": [
        "for key,row in res:\n",
        "    print(key,row)"
      ],
      "execution_count": 25,
      "outputs": [
        {
          "output_type": "stream",
          "text": [
            "b'row 6' {b'cf1:col7': b'17.33', b'cf1:col8': b'344'}\n",
            "b'row 7' {b'cf1:col7': b'17.33', b'cf1:col8': b'612'}\n"
          ],
          "name": "stdout"
        }
      ]
    },
    {
      "cell_type": "markdown",
      "metadata": {
        "id": "8Pm9jgciRF7b"
      },
      "source": [
        "# Ex 1\n",
        "Employee data in HBASE.\n",
        "* create a new table to hold the employee data -> use a distinct name, like ``user_id_employees``\n",
        "* How would you create the column families?\n",
        "* read data from ``employees.csv`` and put it into the table ->  use  ``import csv`` to read the data -> [API docs](https://docs.python.org/3/library/csv.html)\n",
        "* use batch-processing to enter more than one entry per transaction\n",
        "* alter some entries of the table with ``timestamps``\n",
        "* perform some sample scans for the latest entries"
      ]
    },
    {
      "cell_type": "code",
      "metadata": {
        "id": "IakbUm2zRF7c"
      },
      "source": [
        "families = {\n",
        "    'employee_id': dict(max_versions=10),\n",
        "    'birthday': dict(max_versions=1, block_cache_enabled=False),\n",
        "    'first_name': dict(),  # use defaults\n",
        "    'family_name': dict(),  # use defaults\n",
        "    'gender': dict(),  # use defaults\n",
        "    'work_day': dict(),  # use defaults\n",
        "}"
      ],
      "execution_count": 26,
      "outputs": []
    },
    {
      "cell_type": "code",
      "metadata": {
        "id": "iVd6ksMbTPQO",
        "outputId": "eba700eb-5577-46b0-8c58-64e9771e8197",
        "colab": {
          "base_uri": "https://localhost:8080/",
          "height": 325
        }
      },
      "source": [
        "connection.create_table('employee_Group_2', families)"
      ],
      "execution_count": 27,
      "outputs": [
        {
          "output_type": "error",
          "ename": "AlreadyExists",
          "evalue": "ignored",
          "traceback": [
            "\u001b[0;31m---------------------------------------------------------------------------\u001b[0m",
            "\u001b[0;31mAlreadyExists\u001b[0m                             Traceback (most recent call last)",
            "\u001b[0;32m<ipython-input-27-0c28d5add32c>\u001b[0m in \u001b[0;36m<module>\u001b[0;34m()\u001b[0m\n\u001b[0;32m----> 1\u001b[0;31m \u001b[0mconnection\u001b[0m\u001b[0;34m.\u001b[0m\u001b[0mcreate_table\u001b[0m\u001b[0;34m(\u001b[0m\u001b[0;34m'employee_Group_2'\u001b[0m\u001b[0;34m,\u001b[0m \u001b[0mfamilies\u001b[0m\u001b[0;34m)\u001b[0m\u001b[0;34m\u001b[0m\u001b[0;34m\u001b[0m\u001b[0m\n\u001b[0m",
            "\u001b[0;32m/usr/local/lib/python3.7/dist-packages/happybase/connection.py\u001b[0m in \u001b[0;36mcreate_table\u001b[0;34m(self, name, families)\u001b[0m\n\u001b[1;32m    307\u001b[0m             \u001b[0mcolumn_descriptors\u001b[0m\u001b[0;34m.\u001b[0m\u001b[0mappend\u001b[0m\u001b[0;34m(\u001b[0m\u001b[0mColumnDescriptor\u001b[0m\u001b[0;34m(\u001b[0m\u001b[0;34m**\u001b[0m\u001b[0mkwargs\u001b[0m\u001b[0;34m)\u001b[0m\u001b[0;34m)\u001b[0m\u001b[0;34m\u001b[0m\u001b[0;34m\u001b[0m\u001b[0m\n\u001b[1;32m    308\u001b[0m \u001b[0;34m\u001b[0m\u001b[0m\n\u001b[0;32m--> 309\u001b[0;31m         \u001b[0mself\u001b[0m\u001b[0;34m.\u001b[0m\u001b[0mclient\u001b[0m\u001b[0;34m.\u001b[0m\u001b[0mcreateTable\u001b[0m\u001b[0;34m(\u001b[0m\u001b[0mname\u001b[0m\u001b[0;34m,\u001b[0m \u001b[0mcolumn_descriptors\u001b[0m\u001b[0;34m)\u001b[0m\u001b[0;34m\u001b[0m\u001b[0;34m\u001b[0m\u001b[0m\n\u001b[0m\u001b[1;32m    310\u001b[0m \u001b[0;34m\u001b[0m\u001b[0m\n\u001b[1;32m    311\u001b[0m     \u001b[0;32mdef\u001b[0m \u001b[0mdelete_table\u001b[0m\u001b[0;34m(\u001b[0m\u001b[0mself\u001b[0m\u001b[0;34m,\u001b[0m \u001b[0mname\u001b[0m\u001b[0;34m,\u001b[0m \u001b[0mdisable\u001b[0m\u001b[0;34m=\u001b[0m\u001b[0;32mFalse\u001b[0m\u001b[0;34m)\u001b[0m\u001b[0;34m:\u001b[0m\u001b[0;34m\u001b[0m\u001b[0;34m\u001b[0m\u001b[0m\n",
            "\u001b[0;32m/usr/local/lib/python3.7/dist-packages/thriftpy2/thrift.py\u001b[0m in \u001b[0;36m_req\u001b[0;34m(self, _api, *args, **kwargs)\u001b[0m\n\u001b[1;32m    217\u001b[0m         \u001b[0;31m# wait result only if non-oneway\u001b[0m\u001b[0;34m\u001b[0m\u001b[0;34m\u001b[0m\u001b[0;34m\u001b[0m\u001b[0m\n\u001b[1;32m    218\u001b[0m         \u001b[0;32mif\u001b[0m \u001b[0;32mnot\u001b[0m \u001b[0mgetattr\u001b[0m\u001b[0;34m(\u001b[0m\u001b[0mresult_cls\u001b[0m\u001b[0;34m,\u001b[0m \u001b[0;34m\"oneway\"\u001b[0m\u001b[0;34m)\u001b[0m\u001b[0;34m:\u001b[0m\u001b[0;34m\u001b[0m\u001b[0;34m\u001b[0m\u001b[0m\n\u001b[0;32m--> 219\u001b[0;31m             \u001b[0;32mreturn\u001b[0m \u001b[0mself\u001b[0m\u001b[0;34m.\u001b[0m\u001b[0m_recv\u001b[0m\u001b[0;34m(\u001b[0m\u001b[0m_api\u001b[0m\u001b[0;34m)\u001b[0m\u001b[0;34m\u001b[0m\u001b[0;34m\u001b[0m\u001b[0m\n\u001b[0m\u001b[1;32m    220\u001b[0m \u001b[0;34m\u001b[0m\u001b[0m\n\u001b[1;32m    221\u001b[0m     \u001b[0;32mdef\u001b[0m \u001b[0m_send\u001b[0m\u001b[0;34m(\u001b[0m\u001b[0mself\u001b[0m\u001b[0;34m,\u001b[0m \u001b[0m_api\u001b[0m\u001b[0;34m,\u001b[0m \u001b[0;34m**\u001b[0m\u001b[0mkwargs\u001b[0m\u001b[0;34m)\u001b[0m\u001b[0;34m:\u001b[0m\u001b[0;34m\u001b[0m\u001b[0;34m\u001b[0m\u001b[0m\n",
            "\u001b[0;32m/usr/local/lib/python3.7/dist-packages/thriftpy2/thrift.py\u001b[0m in \u001b[0;36m_recv\u001b[0;34m(self, _api)\u001b[0m\n\u001b[1;32m    249\u001b[0m         \u001b[0;32mfor\u001b[0m \u001b[0mk\u001b[0m\u001b[0;34m,\u001b[0m \u001b[0mv\u001b[0m \u001b[0;32min\u001b[0m \u001b[0mresult\u001b[0m\u001b[0;34m.\u001b[0m\u001b[0m__dict__\u001b[0m\u001b[0;34m.\u001b[0m\u001b[0mitems\u001b[0m\u001b[0;34m(\u001b[0m\u001b[0;34m)\u001b[0m\u001b[0;34m:\u001b[0m\u001b[0;34m\u001b[0m\u001b[0;34m\u001b[0m\u001b[0m\n\u001b[1;32m    250\u001b[0m             \u001b[0;32mif\u001b[0m \u001b[0mk\u001b[0m \u001b[0;34m!=\u001b[0m \u001b[0;34m\"success\"\u001b[0m \u001b[0;32mand\u001b[0m \u001b[0mv\u001b[0m\u001b[0;34m:\u001b[0m\u001b[0;34m\u001b[0m\u001b[0;34m\u001b[0m\u001b[0m\n\u001b[0;32m--> 251\u001b[0;31m                 \u001b[0;32mraise\u001b[0m \u001b[0mv\u001b[0m\u001b[0;34m\u001b[0m\u001b[0;34m\u001b[0m\u001b[0m\n\u001b[0m\u001b[1;32m    252\u001b[0m \u001b[0;34m\u001b[0m\u001b[0m\n\u001b[1;32m    253\u001b[0m         \u001b[0;31m# no throws & not void api\u001b[0m\u001b[0;34m\u001b[0m\u001b[0;34m\u001b[0m\u001b[0;34m\u001b[0m\u001b[0m\n",
            "\u001b[0;31mAlreadyExists\u001b[0m: AlreadyExists(message=b'table name already in use')"
          ]
        }
      ]
    },
    {
      "cell_type": "code",
      "metadata": {
        "id": "yy6nJ0tKTSy2",
        "outputId": "21e1c411-e2d2-4c29-930c-f859983aa5e4",
        "colab": {
          "base_uri": "https://localhost:8080/"
        }
      },
      "source": [
        "print(connection.tables())"
      ],
      "execution_count": 28,
      "outputs": [
        {
          "output_type": "stream",
          "text": [
            "[b'49a5b1a_employees', b'dh_user_id_employees', b'employee_Group2', b'employee_Group_2', b'employee_group_five', b'employees_smunaret', b'group1_employee', b'group3_user_id_employees', b'lab3', b'mspitzna_employees', b'tm_user_id_employees', b'user_id_employees']\n"
          ],
          "name": "stdout"
        }
      ]
    },
    {
      "cell_type": "code",
      "metadata": {
        "id": "Kk0D4bxST4ql"
      },
      "source": [
        "table = connection.table('employee_Group_2')"
      ],
      "execution_count": 31,
      "outputs": []
    },
    {
      "cell_type": "code",
      "metadata": {
        "id": "oalwwJGKVviC",
        "outputId": "5ec9bebc-5efb-4eef-f90d-94e4d823b8a2",
        "colab": {
          "base_uri": "https://localhost:8080/"
        }
      },
      "source": [
        "table.families()"
      ],
      "execution_count": 33,
      "outputs": [
        {
          "output_type": "execute_result",
          "data": {
            "text/plain": [
              "{b'birthday': {'block_cache_enabled': False,\n",
              "  'bloom_filter_nb_hashes': 0,\n",
              "  'bloom_filter_type': b'NONE',\n",
              "  'bloom_filter_vector_size': 0,\n",
              "  'compression': b'NONE',\n",
              "  'in_memory': False,\n",
              "  'max_versions': 3,\n",
              "  'name': b'birthday:',\n",
              "  'time_to_live': 2147483647},\n",
              " b'employee_id': {'block_cache_enabled': False,\n",
              "  'bloom_filter_nb_hashes': 0,\n",
              "  'bloom_filter_type': b'NONE',\n",
              "  'bloom_filter_vector_size': 0,\n",
              "  'compression': b'NONE',\n",
              "  'in_memory': False,\n",
              "  'max_versions': 3,\n",
              "  'name': b'employee_id:',\n",
              "  'time_to_live': 2147483647},\n",
              " b'family_name': {'block_cache_enabled': False,\n",
              "  'bloom_filter_nb_hashes': 0,\n",
              "  'bloom_filter_type': b'NONE',\n",
              "  'bloom_filter_vector_size': 0,\n",
              "  'compression': b'NONE',\n",
              "  'in_memory': False,\n",
              "  'max_versions': 3,\n",
              "  'name': b'family_name:',\n",
              "  'time_to_live': 2147483647},\n",
              " b'first_name': {'block_cache_enabled': False,\n",
              "  'bloom_filter_nb_hashes': 0,\n",
              "  'bloom_filter_type': b'NONE',\n",
              "  'bloom_filter_vector_size': 0,\n",
              "  'compression': b'NONE',\n",
              "  'in_memory': False,\n",
              "  'max_versions': 3,\n",
              "  'name': b'first_name:',\n",
              "  'time_to_live': 2147483647},\n",
              " b'gender': {'block_cache_enabled': False,\n",
              "  'bloom_filter_nb_hashes': 0,\n",
              "  'bloom_filter_type': b'NONE',\n",
              "  'bloom_filter_vector_size': 0,\n",
              "  'compression': b'NONE',\n",
              "  'in_memory': False,\n",
              "  'max_versions': 3,\n",
              "  'name': b'gender:',\n",
              "  'time_to_live': 2147483647},\n",
              " b'work_day': {'block_cache_enabled': False,\n",
              "  'bloom_filter_nb_hashes': 0,\n",
              "  'bloom_filter_type': b'NONE',\n",
              "  'bloom_filter_vector_size': 0,\n",
              "  'compression': b'NONE',\n",
              "  'in_memory': False,\n",
              "  'max_versions': 3,\n",
              "  'name': b'work_day:',\n",
              "  'time_to_live': 2147483647}}"
            ]
          },
          "metadata": {
            "tags": []
          },
          "execution_count": 33
        }
      ]
    },
    {
      "cell_type": "code",
      "metadata": {
        "id": "rTKVJ7QOVL4c"
      },
      "source": [
        "import csv\n",
        "with open('employees.csv', newline='') as csvfile:\n",
        "  line = csv.reader(csvfile, delimiter=',', quotechar='|')\n",
        "  for row in line:\n",
        "    table.put({'employee_id':row[0],'birthday':row[1],'first_name':row[2],'family_name':row[3],'gender':row[4],'work_day':row[5]})"
      ],
      "execution_count": null,
      "outputs": []
    }
  ]
}